{
  "nbformat": 4,
  "nbformat_minor": 0,
  "metadata": {
    "colab": {
      "provenance": []
    },
    "kernelspec": {
      "name": "python3",
      "display_name": "Python 3"
    },
    "language_info": {
      "name": "python"
    }
  },
  "cells": [
    {
      "cell_type": "code",
      "execution_count": null,
      "metadata": {
        "id": "37uTnZCGw6cR"
      },
      "outputs": [],
      "source": []
    },
    {
      "cell_type": "markdown",
      "metadata": {
        "id": "xzOpIj7eDKrz"
      },
      "source": [
        "1. Identity Operator:\n",
        "\n",
        "is\n",
        "\n",
        "is not"
      ]
    },
    {
      "cell_type": "code",
      "metadata": {
        "colab": {
          "base_uri": "https://localhost:8080/"
        },
        "id": "005EmRZMDERy",
        "outputId": "7c75b240-62d6-4aaa-be75-51da8afc2795"
      },
      "source": [
        "x = 5\n",
        "y = 5\n",
        "\n",
        "print(x is y)"
      ],
      "execution_count": null,
      "outputs": [
        {
          "output_type": "stream",
          "text": [
            "True\n"
          ],
          "name": "stdout"
        }
      ]
    },
    {
      "cell_type": "code",
      "metadata": {
        "colab": {
          "base_uri": "https://localhost:8080/"
        },
        "id": "ZQy2V1ViDT5x",
        "outputId": "3782b1dc-8dda-4598-9d45-b3f9e859a6f2"
      },
      "source": [
        "x = 5\n",
        "y = 10\n",
        "\n",
        "print(x is y)"
      ],
      "execution_count": null,
      "outputs": [
        {
          "output_type": "stream",
          "text": [
            "False\n"
          ],
          "name": "stdout"
        }
      ]
    },
    {
      "cell_type": "code",
      "metadata": {
        "colab": {
          "base_uri": "https://localhost:8080/"
        },
        "id": "bSZFIncfDYVc",
        "outputId": "c301afff-7c5d-45e6-eac8-ed31719e8804"
      },
      "source": [
        "x = 5\n",
        "y = 5\n",
        "\n",
        "print(x is not y)"
      ],
      "execution_count": null,
      "outputs": [
        {
          "output_type": "stream",
          "text": [
            "False\n"
          ],
          "name": "stdout"
        }
      ]
    },
    {
      "cell_type": "code",
      "metadata": {
        "colab": {
          "base_uri": "https://localhost:8080/"
        },
        "id": "uVAX_AejDcsX",
        "outputId": "abbad84c-bc89-44e0-fff6-b21b7539743a"
      },
      "source": [
        "x = 5\n",
        "y = 10\n",
        "\n",
        "print(x is not y)"
      ],
      "execution_count": null,
      "outputs": [
        {
          "output_type": "stream",
          "text": [
            "True\n"
          ],
          "name": "stdout"
        }
      ]
    },
    {
      "cell_type": "markdown",
      "metadata": {
        "id": "mvIH9bSEDlSw"
      },
      "source": [
        "2. Membership Operator:\n",
        "\n",
        "in\n",
        "\n",
        "not in"
      ]
    },
    {
      "cell_type": "code",
      "metadata": {
        "colab": {
          "base_uri": "https://localhost:8080/"
        },
        "id": "IkUTVRTmDfic",
        "outputId": "afc0d8cd-4e9e-4516-e23e-569752a176cb"
      },
      "source": [
        "a = 5\n",
        "b =10\n",
        "\n",
        "c = [1,2,3,4,5]\n",
        "print( a in c)\n",
        "print( b in c)"
      ],
      "execution_count": null,
      "outputs": [
        {
          "output_type": "stream",
          "text": [
            "True\n",
            "False\n"
          ],
          "name": "stdout"
        }
      ]
    },
    {
      "cell_type": "code",
      "metadata": {
        "colab": {
          "base_uri": "https://localhost:8080/"
        },
        "id": "LOYpdrbnD4Fb",
        "outputId": "782c2ff9-cc82-4797-c9af-1020a7bf037d"
      },
      "source": [
        "a = 5\n",
        "b =10\n",
        "\n",
        "c = [1,2,3,4,5]\n",
        "print( a not in c)\n",
        "print( b not in c)"
      ],
      "execution_count": null,
      "outputs": [
        {
          "output_type": "stream",
          "text": [
            "False\n",
            "True\n"
          ],
          "name": "stdout"
        }
      ]
    }
  ]
}