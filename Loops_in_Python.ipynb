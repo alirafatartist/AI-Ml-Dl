{
  "nbformat": 4,
  "nbformat_minor": 0,
  "metadata": {
    "colab": {
      "provenance": []
    },
    "kernelspec": {
      "name": "python3",
      "display_name": "Python 3"
    },
    "language_info": {
      "name": "python"
    }
  },
  "cells": [
    {
      "cell_type": "markdown",
      "source": [
        "For"
      ],
      "metadata": {
        "id": "UNy0oF1c9k40"
      }
    },
    {
      "cell_type": "code",
      "source": [
        "laptop1 = int(input('Enter the price of the laptop : '))\n",
        "laptop2 = int(input('Enter the price of the laptop : '))\n",
        "laptop3 = int(input('Enter the price of the laptop : '))\n",
        "laptop4 = int(input('Enter the price of the laptop : '))\n",
        "laptop5 = int(input('Enter the price of the laptop : '))"
      ],
      "metadata": {
        "colab": {
          "base_uri": "https://localhost:8080/"
        },
        "id": "izxC3fK-zkSB",
        "outputId": "6c017282-3327-44d2-c8c1-32d0f0319784"
      },
      "execution_count": 2,
      "outputs": [
        {
          "name": "stdout",
          "output_type": "stream",
          "text": [
            "Enter the price of the laptop : 54\n",
            "Enter the price of the laptop : 34\n",
            "Enter the price of the laptop : 65\n",
            "Enter the price of the laptop : 6678\n",
            "Enter the price of the laptop : 876\n"
          ]
        }
      ]
    },
    {
      "cell_type": "code",
      "execution_count": 6,
      "metadata": {
        "colab": {
          "base_uri": "https://localhost:8080/"
        },
        "id": "p2KHvJw2zGOp",
        "outputId": "02edc10b-b6df-4d8f-be63-deed60a7db44"
      },
      "outputs": [
        {
          "name": "stdout",
          "output_type": "stream",
          "text": [
            "Enter the price of the laptop 1 : 432\n",
            "Enter the price of the laptop 2 : 657\n",
            "Enter the price of the laptop 3 : 5435\n",
            "Enter the price of the laptop 4 : 767867\n",
            "Enter the price of the laptop 5 : 3423\n",
            "Enter the price of the laptop 6 : 4324\n",
            "Enter the price of the laptop 7 : 658\n"
          ]
        }
      ],
      "source": [
        "for i in range(7):\n",
        "  int(input(f'Enter the price of the laptop {i+1} : '))"
      ]
    },
    {
      "cell_type": "code",
      "source": [
        "my_list = [1,5.7,\"moahmd\",34859,\"jamal\"]\n",
        "for i in my_list:\n",
        "  print(i)"
      ],
      "metadata": {
        "colab": {
          "base_uri": "https://localhost:8080/"
        },
        "id": "qoG8axp81Ny6",
        "outputId": "ea062b05-51e9-4661-d3df-096602f1b65a"
      },
      "execution_count": 8,
      "outputs": [
        {
          "output_type": "stream",
          "name": "stdout",
          "text": [
            "1\n",
            "5.7\n",
            "moahmd\n",
            "34859\n",
            "jamal\n"
          ]
        }
      ]
    },
    {
      "cell_type": "markdown",
      "source": [
        "While Loop"
      ],
      "metadata": {
        "id": "8iMHAqYW9nmz"
      }
    },
    {
      "cell_type": "code",
      "source": [
        "i=0\n",
        "while i<10:\n",
        "  print(i)\n",
        "  i+=1"
      ],
      "metadata": {
        "colab": {
          "base_uri": "https://localhost:8080/"
        },
        "id": "OoBHdZLM9SVE",
        "outputId": "f5ddf7f2-d12d-44aa-dc41-c64fdc9b8f56"
      },
      "execution_count": 10,
      "outputs": [
        {
          "output_type": "stream",
          "name": "stdout",
          "text": [
            "0\n",
            "1\n",
            "2\n",
            "3\n",
            "4\n",
            "5\n",
            "6\n",
            "7\n",
            "8\n",
            "9\n"
          ]
        }
      ]
    },
    {
      "cell_type": "code",
      "source": [],
      "metadata": {
        "id": "knmd8x7z9wTY"
      },
      "execution_count": null,
      "outputs": []
    }
  ]
}