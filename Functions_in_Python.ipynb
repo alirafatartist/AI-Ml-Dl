{
  "nbformat": 4,
  "nbformat_minor": 0,
  "metadata": {
    "colab": {
      "provenance": []
    },
    "kernelspec": {
      "name": "python3",
      "display_name": "Python 3"
    },
    "language_info": {
      "name": "python"
    }
  },
  "cells": [
    {
      "cell_type": "code",
      "execution_count": 16,
      "metadata": {
        "colab": {
          "base_uri": "https://localhost:8080/"
        },
        "id": "kE3p1aBf-W1d",
        "outputId": "a70eb858-f05c-49dd-932b-3f503d11baf0"
      },
      "outputs": [
        {
          "output_type": "stream",
          "name": "stdout",
          "text": [
            "Enter number want to find it's factorial: 5\n",
            "The factorial of  5  is 120\n"
          ]
        }
      ],
      "source": [
        "number = int(input(\"Enter number want to find it's factorial: \"))\n",
        "factorial =1\n",
        "\n",
        "if number == 0:\n",
        "  print(\"The factorial of 0 is 1\")\n",
        "else:\n",
        "  for i in range(1,number+1):\n",
        "    factorial = factorial * i\n",
        "  print('The factorial of ',number,' is',factorial)"
      ]
    },
    {
      "cell_type": "code",
      "source": [
        "def factorial_value(num):\n",
        "  factorial =1\n",
        "\n",
        "  if num == 0:\n",
        "    print(\"The factorial of 0 is 1\")\n",
        "  else:\n",
        "    for i in range(1,num+1):\n",
        "      factorial = factorial * i\n",
        "    print('The factorial of ',num,' is',factorial)\n",
        "\n",
        "factorial_value(7)"
      ],
      "metadata": {
        "colab": {
          "base_uri": "https://localhost:8080/"
        },
        "id": "n1bzw-Dm_sIU",
        "outputId": "d9d03e75-578f-4f87-f0da-1329c8c28c0b"
      },
      "execution_count": 22,
      "outputs": [
        {
          "output_type": "stream",
          "name": "stdout",
          "text": [
            "The factorial of  7  is 5040\n"
          ]
        }
      ]
    },
    {
      "cell_type": "code",
      "source": [],
      "metadata": {
        "id": "RfUlh3rzCvAy"
      },
      "execution_count": null,
      "outputs": []
    }
  ]
}